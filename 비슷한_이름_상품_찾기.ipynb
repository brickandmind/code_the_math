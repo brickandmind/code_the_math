{
 "cells": [
  {
   "cell_type": "code",
   "execution_count": null,
   "metadata": {},
   "outputs": [],
   "source": [
    "from nltk.corpus import stopwords \n",
    "from nltk.tokenize import word_tokenize \n",
    "import nltk\n",
    "import pandas as pd\n",
    "import numpy as np\n",
    "import re\n",
    "import math\n",
    "import numpy as np"
   ]
  },
  {
   "cell_type": "code",
   "execution_count": 3,
   "metadata": {},
   "outputs": [
    {
     "name": "stderr",
     "output_type": "stream",
     "text": [
      "[nltk_data] Downloading package stopwords to\n",
      "[nltk_data]     /Users/herick/nltk_data...\n",
      "[nltk_data]   Unzipping corpora/stopwords.zip.\n"
     ]
    },
    {
     "data": {
      "text/plain": [
       "True"
      ]
     },
     "execution_count": 3,
     "metadata": {},
     "output_type": "execute_result"
    }
   ],
   "source": [
    "nltk.download('stopwords')\n",
    "nltk.download('punkt')"
   ]
  },
  {
   "cell_type": "markdown",
   "metadata": {},
   "source": [
    "# 비슷한 이름 상품 찾기\n",
    "## 수학에서 distance란?\n",
    "거리 = 점과 점 사이의 거리 <br/>\n",
    "질문 = 두 점 사이의 거리는 무엇으로 측정 되는가? meter? feet? 혹은 각도?\n",
    "\n",
    "### **가장 자주 쓰이는 거리(기존에 우리가 알고 있는) : Elucidian Distnace**\n",
    "<img src = \"image_data/eul_distance.png\">\n",
    "**단점**\n",
    "1. 데이터의 차원이 높아질수록 거리 계산이 부정확 해진다<br/>\n",
    "2. 두 점 사이의 절대값이 차이가 많이 아지만, 이러한 절대값 차이가 유의미 하지 않을때<br/>\n",
    "3. 두 점의 성질이 얼마나 다른지 알고 싶을떄<br/>\n",
    "\n",
    "### **수학에서 자주 쓰이는 :cosin similarity**\n",
    "<img src = \"image_data/cos_distance.svg\">\n",
    "<img src = \"image_data/cos_distance2.png\">\n",
    "1. 데이터의 차원이 높아질져도 먹힌다<br/>\n",
    "2. 두 점 사이으이 절대값을 중요한 정보로 여기지 않는다<br/>\n",
    "3. -1 과 1 사이의 값으로 standardize 되기 때문에 스코어로 활용하기 쉽다(혹은 확률에 적용시키기 쉽다)<br/>\n"
   ]
  },
  {
   "cell_type": "markdown",
   "metadata": {},
   "source": [
    "## 잠깜만, -1과 1 사이, 즉 스코어로 활용하기 쉽다는 것은 무엇을 의미 할까? = 확률과 연동 시키기 쉽다\n",
    "\n",
    "case1 = 점1 주변에 다른 점들이 무작위로 찍힌다고 가정 할 때 cosin similarity 스코어가 0과 1 사이일 확률은 몇% 일까?<br/>\n",
    "case2 = 점1 주변에 다른 점들이 무작위로 찍힌다고 가정 할 때 Elucidian distance가 0과 max(무작위로 찍힌 점 까지의 절대 거리 값)/2 사이일 확률은 몇% 일까?<br/>\n",
    "\n",
    "### 실질적으로 많은 machine learning method에서 cosin similarity 를 쓴다\n"
   ]
  },
  {
   "cell_type": "markdown",
   "metadata": {},
   "source": [
    "# 문제 : 특정 상품과 비슷한 이름을 가지는 상품을 찾으시오"
   ]
  },
  {
   "cell_type": "code",
   "execution_count": null,
   "metadata": {},
   "outputs": [],
   "source": [
    "#https://archive.ics.uci.edu/ml/datasets/Online%20Retail\n",
    "df= pd.read_excel('https://archive.ics.uci.edu/ml/machine-learning-databases/00352/Online%20Retail.xlsx')\n",
    "df.to_excel('./data/retail_data.xlsx')"
   ]
  },
  {
   "cell_type": "code",
   "execution_count": 19,
   "metadata": {},
   "outputs": [],
   "source": [
    "df = pd.read_excel('./data/retail_data.xlsx')"
   ]
  },
  {
   "cell_type": "code",
   "execution_count": 22,
   "metadata": {},
   "outputs": [
    {
     "name": "stdout",
     "output_type": "stream",
     "text": [
      "WHITE HANGING HEART T-LIGHT HOLDER\n",
      "WHITE METAL LANTERN\n",
      "CREAM CUPID HEARTS COAT HANGER\n",
      "KNITTED UNION FLAG HOT WATER BOTTLE\n",
      "RED WOOLLY HOTTIE WHITE HEART.\n",
      "SET 7 BABUSHKA NESTING BOXES\n",
      "GLASS STAR FROSTED T-LIGHT HOLDER\n",
      "HAND WARMER UNION JACK\n",
      "HAND WARMER RED POLKA DOT\n",
      "ASSORTED COLOUR BIRD ORNAMENT\n",
      "POPPY'S PLAYHOUSE BEDROOM \n",
      "POPPY'S PLAYHOUSE KITCHEN\n",
      "FELTCRAFT PRINCESS CHARLOTTE DOLL\n",
      "IVORY KNITTED MUG COSY \n",
      "BOX OF 6 ASSORTED COLOUR TEASPOONS\n",
      "BOX OF VINTAGE JIGSAW BLOCKS \n",
      "BOX OF VINTAGE ALPHABET BLOCKS\n",
      "HOME BUILDING BLOCK WORD\n",
      "LOVE BUILDING BLOCK WORD\n",
      "RECIPE BOX WITH METAL HEART\n"
     ]
    }
   ],
   "source": [
    "for i, x in enumerate(df['Description']):\n",
    "    if i <20:\n",
    "        print(x)"
   ]
  },
  {
   "cell_type": "code",
   "execution_count": 28,
   "metadata": {},
   "outputs": [],
   "source": [
    "stop_words = set(stopwords.words('english')) \n",
    "def str_filter(x):\n",
    "    if type(x) == str:\n",
    "        \n",
    "        x = x.strip(' ').lower().replace('-', ' ').replace('/' , ' ')\n",
    "        x = re.sub('[0-9]', '', x)\n",
    "        x = re.sub('\\b\\w{1}\\b', '', x)\n",
    "        \n",
    "        stop_words = set(stopwords.words('english'))         \n",
    "        filtered_product_name_set = set([w for w in x.split(' ') if not w in stop_words] )\n",
    "        return filtered_product_name_set\n",
    "    else:\n",
    "        return None\n",
    "\n",
    "\n",
    "df['Description_filtered'] = df['Description'].apply(lambda x : str_filter(x))\n"
   ]
  },
  {
   "cell_type": "code",
   "execution_count": 31,
   "metadata": {},
   "outputs": [
    {
     "data": {
      "text/html": [
       "<div>\n",
       "<style scoped>\n",
       "    .dataframe tbody tr th:only-of-type {\n",
       "        vertical-align: middle;\n",
       "    }\n",
       "\n",
       "    .dataframe tbody tr th {\n",
       "        vertical-align: top;\n",
       "    }\n",
       "\n",
       "    .dataframe thead th {\n",
       "        text-align: right;\n",
       "    }\n",
       "</style>\n",
       "<table border=\"1\" class=\"dataframe\">\n",
       "  <thead>\n",
       "    <tr style=\"text-align: right;\">\n",
       "      <th></th>\n",
       "      <th>Unnamed: 0</th>\n",
       "      <th>InvoiceNo</th>\n",
       "      <th>StockCode</th>\n",
       "      <th>Description</th>\n",
       "      <th>Quantity</th>\n",
       "      <th>InvoiceDate</th>\n",
       "      <th>UnitPrice</th>\n",
       "      <th>CustomerID</th>\n",
       "      <th>Country</th>\n",
       "      <th>Description_filtered</th>\n",
       "    </tr>\n",
       "  </thead>\n",
       "  <tbody>\n",
       "    <tr>\n",
       "      <td>0</td>\n",
       "      <td>0</td>\n",
       "      <td>536365</td>\n",
       "      <td>85123A</td>\n",
       "      <td>WHITE HANGING HEART T-LIGHT HOLDER</td>\n",
       "      <td>6</td>\n",
       "      <td>2010-12-01 08:26:00</td>\n",
       "      <td>2.55</td>\n",
       "      <td>17850.0</td>\n",
       "      <td>United Kingdom</td>\n",
       "      <td>{white, light, heart, hanging, holder}</td>\n",
       "    </tr>\n",
       "    <tr>\n",
       "      <td>1</td>\n",
       "      <td>1</td>\n",
       "      <td>536365</td>\n",
       "      <td>71053</td>\n",
       "      <td>WHITE METAL LANTERN</td>\n",
       "      <td>6</td>\n",
       "      <td>2010-12-01 08:26:00</td>\n",
       "      <td>3.39</td>\n",
       "      <td>17850.0</td>\n",
       "      <td>United Kingdom</td>\n",
       "      <td>{lantern, metal, white}</td>\n",
       "    </tr>\n",
       "    <tr>\n",
       "      <td>2</td>\n",
       "      <td>2</td>\n",
       "      <td>536365</td>\n",
       "      <td>84406B</td>\n",
       "      <td>CREAM CUPID HEARTS COAT HANGER</td>\n",
       "      <td>8</td>\n",
       "      <td>2010-12-01 08:26:00</td>\n",
       "      <td>2.75</td>\n",
       "      <td>17850.0</td>\n",
       "      <td>United Kingdom</td>\n",
       "      <td>{coat, cream, cupid, hearts, hanger}</td>\n",
       "    </tr>\n",
       "    <tr>\n",
       "      <td>3</td>\n",
       "      <td>3</td>\n",
       "      <td>536365</td>\n",
       "      <td>84029G</td>\n",
       "      <td>KNITTED UNION FLAG HOT WATER BOTTLE</td>\n",
       "      <td>6</td>\n",
       "      <td>2010-12-01 08:26:00</td>\n",
       "      <td>3.39</td>\n",
       "      <td>17850.0</td>\n",
       "      <td>United Kingdom</td>\n",
       "      <td>{union, flag, hot, water, knitted, bottle}</td>\n",
       "    </tr>\n",
       "    <tr>\n",
       "      <td>4</td>\n",
       "      <td>4</td>\n",
       "      <td>536365</td>\n",
       "      <td>84029E</td>\n",
       "      <td>RED WOOLLY HOTTIE WHITE HEART.</td>\n",
       "      <td>6</td>\n",
       "      <td>2010-12-01 08:26:00</td>\n",
       "      <td>3.39</td>\n",
       "      <td>17850.0</td>\n",
       "      <td>United Kingdom</td>\n",
       "      <td>{red, white, woolly, hottie, heart.}</td>\n",
       "    </tr>\n",
       "  </tbody>\n",
       "</table>\n",
       "</div>"
      ],
      "text/plain": [
       "   Unnamed: 0 InvoiceNo StockCode                          Description  \\\n",
       "0           0    536365    85123A   WHITE HANGING HEART T-LIGHT HOLDER   \n",
       "1           1    536365     71053                  WHITE METAL LANTERN   \n",
       "2           2    536365    84406B       CREAM CUPID HEARTS COAT HANGER   \n",
       "3           3    536365    84029G  KNITTED UNION FLAG HOT WATER BOTTLE   \n",
       "4           4    536365    84029E       RED WOOLLY HOTTIE WHITE HEART.   \n",
       "\n",
       "   Quantity         InvoiceDate  UnitPrice  CustomerID         Country  \\\n",
       "0         6 2010-12-01 08:26:00       2.55     17850.0  United Kingdom   \n",
       "1         6 2010-12-01 08:26:00       3.39     17850.0  United Kingdom   \n",
       "2         8 2010-12-01 08:26:00       2.75     17850.0  United Kingdom   \n",
       "3         6 2010-12-01 08:26:00       3.39     17850.0  United Kingdom   \n",
       "4         6 2010-12-01 08:26:00       3.39     17850.0  United Kingdom   \n",
       "\n",
       "                         Description_filtered  \n",
       "0      {white, light, heart, hanging, holder}  \n",
       "1                     {lantern, metal, white}  \n",
       "2        {coat, cream, cupid, hearts, hanger}  \n",
       "3  {union, flag, hot, water, knitted, bottle}  \n",
       "4        {red, white, woolly, hottie, heart.}  "
      ]
     },
     "execution_count": 31,
     "metadata": {},
     "output_type": "execute_result"
    }
   ],
   "source": [
    "df.head()"
   ]
  },
  {
   "cell_type": "code",
   "execution_count": 34,
   "metadata": {},
   "outputs": [],
   "source": [
    "target_prd = df['Description_filtered'][0]\n",
    "compare_prd_list = df['Description_filtered'][1:100]"
   ]
  },
  {
   "cell_type": "code",
   "execution_count": 39,
   "metadata": {},
   "outputs": [],
   "source": [
    "A = len(target_prd)\n",
    "AB = 0\n",
    "score_dic = dict()\n",
    "for i, each_prd in enumerate(compare_prd_list):\n",
    "    B = len(set(each_prd))\n",
    "    for each_word in each_prd:\n",
    "        if each_word in target_prd:\n",
    "            AB += 1\n",
    "            \n",
    "    score = round(AB/(math.sqrt(A) * math.sqrt(B)), 3)\n",
    "    score_dic[i] = score\n",
    "    \n",
    "            \n",
    "            "
   ]
  },
  {
   "cell_type": "code",
   "execution_count": 44,
   "metadata": {},
   "outputs": [
    {
     "name": "stdout",
     "output_type": "stream",
     "text": [
      "{'light', 'star', 'frosted', 'holder', 'glass'} GLASS STAR FROSTED T-LIGHT HOLDER\n",
      "{'red', 'dot', 'hand', 'warmer', 'polka'} HAND WARMER RED POLKA DOT\n",
      "{'bird', 'assorted', 'ornament', 'colour'} ASSORTED COLOUR BIRD ORNAMENT\n",
      "{'bedroom', 'playhouse', \"poppy's\"} POPPY'S PLAYHOUSE BEDROOM \n",
      "{'playhouse', \"poppy's\", 'kitchen'} POPPY'S PLAYHOUSE KITCHEN\n",
      "{'princess', 'charlotte', 'doll', 'feltcraft'} FELTCRAFT PRINCESS CHARLOTTE DOLL\n",
      "{'', 'assorted', 'box', 'colour', 'teaspoons'} BOX OF 6 ASSORTED COLOUR TEASPOONS\n",
      "{'blocks', 'vintage', 'jigsaw', 'box'} BOX OF VINTAGE JIGSAW BLOCKS \n",
      "{'alphabet', 'vintage', 'blocks', 'box'} BOX OF VINTAGE ALPHABET BLOCKS\n",
      "{'building', 'home', 'block', 'word'} HOME BUILDING BLOCK WORD\n",
      "{'building', 'word', 'block', 'love'} LOVE BUILDING BLOCK WORD\n",
      "{'heart', 'recipe', 'metal', 'box'} RECIPE BOX WITH METAL HEART\n",
      "{'england', 'new', 'doormat'} DOORMAT NEW ENGLAND\n",
      "{'making', 'set', 'jars', 'jam'} JAM MAKING SET WITH JARS\n",
      "{'coat', 'red', 'paris', 'fashion', 'rack'} RED COAT RACK PARIS FASHION\n",
      "{'coat', 'paris', 'yellow', 'fashion', 'rack'} YELLOW COAT RACK PARIS FASHION\n",
      "{'coat', 'blue', 'paris', 'fashion', 'rack'} BLUE COAT RACK PARIS FASHION\n",
      "{'building', 'word', 'block', 'bath'} BATH BUILDING BLOCK WORD\n",
      "{'bakelike', 'pink', 'clock', 'alarm'} ALARM CLOCK BAKELIKE PINK\n",
      "{'bakelike', 'red', 'clock', 'alarm'} ALARM CLOCK BAKELIKE RED \n",
      "{'bakelike', 'green', 'clock', 'alarm'} ALARM CLOCK BAKELIKE GREEN\n",
      "{'panda', 'bunnies', 'sheet', 'sticker'} PANDA AND BUNNIES STICKER SHEET\n",
      "{'gift', 'tape', 'stars'} STARS GIFT TAPE \n",
      "{'inflatable', 'globe', 'political'} INFLATABLE POLITICAL GLOBE \n",
      "{'vintage', 'card', 'game', 'tails', 'heads'} VINTAGE HEADS AND TAILS CARD GAME \n",
      "{'', 'red', 'retrospot', 'set', 'tea', 'towels'} SET/2 RED RETROSPOT TEA TOWELS \n",
      "{'woodland', 'set', 'round', 'snack', 'boxes'} ROUND SNACK BOXES SET OF4 WOODLAND \n",
      "{'spaceboy', 'lunch', 'box'} SPACEBOY LUNCH BOX \n",
      "{'london', 'love', 'lunch', 'box'} LUNCH BOX I LOVE LONDON\n",
      "{'box', 'circus', 'lunch', 'parade'} CIRCUS PARADE LUNCH BOX \n",
      "{'dolly', 'design', 'charlotte', 'girl', 'bag'} CHARLOTTE BAG DOLLY GIRL DESIGN\n",
      "{'red', 'led', 'night', 'light', 'toadstool'} RED TOADSTOOL LED NIGHT LIGHT\n",
      "{'', 'set', 'love', 'tea', 'towels', 'london'}  SET 2 TEA TOWELS I LOVE LONDON \n",
      "{'seaside', 'vintage', 'jigsaw', 'puzzles'} VINTAGE SEASIDE JIGSAW PUZZLES\n",
      "{'mini', 'circus', 'jigsaw', 'parade'} MINI JIGSAW CIRCUS PARADE \n",
      "{'mini', 'spaceboy', 'jigsaw'} MINI JIGSAW SPACEBOY\n",
      "{'mini', 'paint', 'set', 'vintage'} MINI PAINT SET VINTAGE \n",
      "{'postage'} POSTAGE\n",
      "{'christmas', 'kit', 'paper', \"'s\", 'chain'} PAPER CHAIN KIT 50'S CHRISTMAS \n",
      "{'red', 'dot', 'hand', 'warmer', 'polka'} HAND WARMER RED POLKA DOT\n",
      "{'hand', 'union', 'jack', 'warmer'} HAND WARMER UNION JACK\n",
      "{'white', 'light', 'heart', 'hanging', 'holder'} WHITE HANGING HEART T-LIGHT HOLDER\n",
      "{'lantern', 'metal', 'white'} WHITE METAL LANTERN\n",
      "{'coat', 'cream', 'cupid', 'hearts', 'hanger'} CREAM CUPID HEARTS COAT HANGER\n",
      "{'red', 'edwardian', 'parasol'} EDWARDIAN PARASOL RED\n",
      "{'coffee', 'retro', 'assorted', 'mugs'} RETRO COFFEE MUGS ASSORTED\n",
      "{'planet', 'save', 'mug'} SAVE THE PLANET MUG\n",
      "{'drink', 'billboard', 'mug', 'vintage'} VINTAGE BILLBOARD DRINK ME MUG\n",
      "{'hate', 'vintage', 'love', 'billboard', 'mug'} VINTAGE BILLBOARD LOVE/HATE MUG\n",
      "{'', 'wood', 'white', 'drawer', 'cabinet', 'finish'} WOOD 2 DRAWER CABINET WHITE FINISH\n",
      "{'', 'ant', 'wood', 'white', 'cabinet', 'finish'} WOOD S/3 CABINET ANT WHITE FINISH\n",
      "{'white', 'finish', 'frame', 'wooden', 'picture'} WOODEN PICTURE FRAME WHITE FINISH\n",
      "{'wooden', 'frame', 'antique', 'white'} WOODEN FRAME ANTIQUE WHITE \n",
      "{'union', 'flag', 'hot', 'water', 'knitted', 'bottle'} KNITTED UNION FLAG HOT WATER BOTTLE\n",
      "{'red', 'white', 'woolly', 'hottie', 'heart.'} RED WOOLLY HOTTIE WHITE HEART.\n",
      "{'', 'nesting', 'set', 'babushka', 'boxes'} SET 7 BABUSHKA NESTING BOXES\n",
      "{'light', 'star', 'frosted', 'holder', 'glass'} GLASS STAR FROSTED T-LIGHT HOLDER\n",
      "{'sewing', 'large', 'victorian', 'box'} VICTORIAN SEWING BOX LARGE\n",
      "{'white', 'light', 'heart', 'hanging', 'holder'} WHITE HANGING HEART T-LIGHT HOLDER\n",
      "{'lantern', 'metal', 'white'} WHITE METAL LANTERN\n",
      "{'coat', 'cream', 'cupid', 'hearts', 'hanger'} CREAM CUPID HEARTS COAT HANGER\n",
      "{'red', 'edwardian', 'parasol'} EDWARDIAN PARASOL RED\n",
      "{'coffee', 'retro', 'assorted', 'mugs'} RETRO COFFEE MUGS ASSORTED\n",
      "{'planet', 'save', 'mug'} SAVE THE PLANET MUG\n",
      "{'drink', 'billboard', 'mug', 'vintage'} VINTAGE BILLBOARD DRINK ME MUG\n",
      "{'hate', 'vintage', 'love', 'billboard', 'mug'} VINTAGE BILLBOARD LOVE/HATE MUG\n",
      "{'', 'wood', 'white', 'drawer', 'cabinet', 'finish'} WOOD 2 DRAWER CABINET WHITE FINISH\n",
      "{'', 'ant', 'wood', 'white', 'cabinet', 'finish'} WOOD S/3 CABINET ANT WHITE FINISH\n",
      "{'white', 'finish', 'frame', 'wooden', 'picture'} WOODEN PICTURE FRAME WHITE FINISH\n",
      "{'wooden', 'frame', 'antique', 'white'} WOODEN FRAME ANTIQUE WHITE \n",
      "{'union', 'flag', 'hot', 'water', 'knitted', 'bottle'} KNITTED UNION FLAG HOT WATER BOTTLE\n",
      "{'red', 'white', 'woolly', 'hottie', 'heart.'} RED WOOLLY HOTTIE WHITE HEART.\n",
      "{'', 'nesting', 'set', 'babushka', 'boxes'} SET 7 BABUSHKA NESTING BOXES\n",
      "{'light', 'star', 'frosted', 'holder', 'glass'} GLASS STAR FROSTED T-LIGHT HOLDER\n",
      "{'hot', 'water', 'tea', 'bottle', 'sympathy'} HOT WATER BOTTLE TEA AND SYMPATHY\n",
      "{'red', 'light', 'heart', 'hanging', 'holder'} RED HANGING HEART T-LIGHT HOLDER\n",
      "{'red', 'dot', 'hand', 'warmer', 'polka'} HAND WARMER RED POLKA DOT\n",
      "{'hand', 'union', 'jack', 'warmer'} HAND WARMER UNION JACK\n",
      "{'jumbo', 'polkadot', 'pink', 'bag'} JUMBO BAG PINK POLKADOT\n",
      "{'', 'white', 'jumbo', 'baroque', 'bag', 'black'} JUMBO  BAG BAROQUE BLACK WHITE\n",
      "{'toys', 'jumbo', 'charlie', 'lola', 'bag'} JUMBO BAG CHARLIE AND LOLA TOYS\n",
      "{'charlotte', 'strawberry', 'bag'} STRAWBERRY CHARLOTTE BAG\n",
      "{'', 'red', 'piece', 'retrospot', 'set', 'cutlery'} RED 3 PIECE RETROSPOT CUTLERY SET\n",
      "{'', 'piece', 'polkadot', 'blue', 'set', 'cutlery'} BLUE 3 PIECE POLKADOT CUTLERY SET\n",
      "{'', 'plates', 'red', 'set', 'spotty', 'paper'} SET/6 RED SPOTTY PAPER PLATES\n",
      "{'red', 'bag', 'lunch', 'retrospot'} LUNCH BAG RED RETROSPOT\n",
      "{'strawberry', 'cutlery', 'lunch', 'box'} STRAWBERRY LUNCH BOX WITH CUTLERY\n",
      "{'cutlery', 'retrospot', 'lunch', 'box'} LUNCH BOX WITH CUTLERY RETROSPOT \n",
      "{'', 'retrospot', 'pack', 'cake', 'cases'} PACK OF 72 RETROSPOT CAKE CASES\n",
      "{'', 'dinosaur', 'pack', 'cake', 'cases'} PACK OF 60 DINOSAUR CAKE CASES\n",
      "{'', 'pink', 'paisley', 'pack', 'cake', 'cases'} PACK OF 60 PINK PAISLEY CAKE CASES\n"
     ]
    }
   ],
   "source": [
    "for k,v in score_dic.items():\n",
    "    if v > 0.8:\n",
    "        print(df['Description_filtered'][k], df['Description'][k])"
   ]
  }
 ],
 "metadata": {
  "kernelspec": {
   "display_name": "Python 3",
   "language": "python",
   "name": "python3"
  },
  "language_info": {
   "codemirror_mode": {
    "name": "ipython",
    "version": 3
   },
   "file_extension": ".py",
   "mimetype": "text/x-python",
   "name": "python",
   "nbconvert_exporter": "python",
   "pygments_lexer": "ipython3",
   "version": "3.7.4"
  }
 },
 "nbformat": 4,
 "nbformat_minor": 2
}
