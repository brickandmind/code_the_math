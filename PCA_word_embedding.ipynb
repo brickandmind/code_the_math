{
 "cells": [
  {
   "cell_type": "code",
   "execution_count": 1,
   "metadata": {},
   "outputs": [],
   "source": [
    "from nltk.corpus import stopwords \n",
    "from nltk.tokenize import word_tokenize \n",
    "import nltk\n",
    "import pandas as pd\n",
    "import numpy as np\n",
    "import re\n",
    "import math\n",
    "import numpy as np\n",
    "from gensim.models import Word2Vec"
   ]
  },
  {
   "cell_type": "code",
   "execution_count": 17,
   "metadata": {},
   "outputs": [],
   "source": [
    "from sklearn.decomposition import PCA"
   ]
  },
  {
   "cell_type": "markdown",
   "metadata": {},
   "source": [
    "# 차원을 줄여 보도록 하자!"
   ]
  },
  {
   "cell_type": "code",
   "execution_count": null,
   "metadata": {},
   "outputs": [],
   "source": [
    "#https://archive.ics.uci.edu/ml/datasets/Online%20Retail\n",
    "# df= pd.read_excel('https://archive.ics.uci.edu/ml/machine-learning-databases/00352/Online%20Retail.xlsx')\n",
    "# df.to_excel('./data/retail_data.xlsx')"
   ]
  },
  {
   "cell_type": "code",
   "execution_count": 18,
   "metadata": {},
   "outputs": [],
   "source": [
    "df = pd.read_excel('./data/retail_data.xlsx')"
   ]
  },
  {
   "cell_type": "code",
   "execution_count": 19,
   "metadata": {},
   "outputs": [],
   "source": [
    "stop_words = set(stopwords.words('english')) \n",
    "def str_filter(x):\n",
    "    if type(x) == str:\n",
    "        \n",
    "        x = x.strip(' ').lower().replace('-', ' ').replace('/' , ' ')\n",
    "        x = re.sub('[0-9]', '', x)\n",
    "        x = re.sub('\\b\\w{1}\\b', '', x)\n",
    "        \n",
    "        stop_words = set(stopwords.words('english'))         \n",
    "        filtered_product_name_set = set([w for w in x.split(' ') if not w in stop_words] )\n",
    "        return filtered_product_name_set\n",
    "    else:\n",
    "        return None\n",
    "\n",
    "\n",
    "df['Description_filtered'] = df['Description'].apply(lambda x : str_filter(x))\n"
   ]
  },
  {
   "cell_type": "code",
   "execution_count": 23,
   "metadata": {
    "scrolled": true
   },
   "outputs": [
    {
     "data": {
      "text/plain": [
       "array([{'light', 'heart', 'white', 'hanging', 'holder'},\n",
       "       {'white', 'lantern', 'metal'},\n",
       "       {'hearts', 'cream', 'coat', 'cupid', 'hanger'}, ...,\n",
       "       {'dolly', 'cutlery', 'childrens', 'girl'},\n",
       "       {'cutlery', 'parade', 'circus', 'childrens'},\n",
       "       {'', 'piece', 'retrospot', 'baking', 'set'}], dtype=object)"
      ]
     },
     "execution_count": 23,
     "metadata": {},
     "output_type": "execute_result"
    }
   ],
   "source": [
    "df['Description_filtered'].values"
   ]
  },
  {
   "cell_type": "code",
   "execution_count": 28,
   "metadata": {},
   "outputs": [],
   "source": [
    "def word_to_vector_dict(list_of_sets):\n",
    "    dic = dict()\n",
    "    i = 0\n",
    "    for each_set in list_of_sets:\n",
    "        if each_set != None:\n",
    "            for each_word in each_set:\n",
    "                if each_word not in dic.keys():\n",
    "                    i +=1\n",
    "                    dic[each_word] =i\n",
    "    return dic, len(dic.keys())\n",
    "\n",
    "    "
   ]
  },
  {
   "cell_type": "code",
   "execution_count": 29,
   "metadata": {},
   "outputs": [],
   "source": [
    "dic, dic_len = word_to_vector_dict(df['Description_filtered'].values)"
   ]
  },
  {
   "cell_type": "code",
   "execution_count": 33,
   "metadata": {},
   "outputs": [
    {
     "data": {
      "text/html": [
       "<div>\n",
       "<style scoped>\n",
       "    .dataframe tbody tr th:only-of-type {\n",
       "        vertical-align: middle;\n",
       "    }\n",
       "\n",
       "    .dataframe tbody tr th {\n",
       "        vertical-align: top;\n",
       "    }\n",
       "\n",
       "    .dataframe thead th {\n",
       "        text-align: right;\n",
       "    }\n",
       "</style>\n",
       "<table border=\"1\" class=\"dataframe\">\n",
       "  <thead>\n",
       "    <tr style=\"text-align: right;\">\n",
       "      <th></th>\n",
       "      <th>Unnamed: 0</th>\n",
       "      <th>InvoiceNo</th>\n",
       "      <th>StockCode</th>\n",
       "      <th>Description</th>\n",
       "      <th>Quantity</th>\n",
       "      <th>InvoiceDate</th>\n",
       "      <th>UnitPrice</th>\n",
       "      <th>CustomerID</th>\n",
       "      <th>Country</th>\n",
       "      <th>Description_filtered</th>\n",
       "    </tr>\n",
       "  </thead>\n",
       "  <tbody>\n",
       "    <tr>\n",
       "      <td>0</td>\n",
       "      <td>0</td>\n",
       "      <td>536365</td>\n",
       "      <td>85123A</td>\n",
       "      <td>WHITE HANGING HEART T-LIGHT HOLDER</td>\n",
       "      <td>6</td>\n",
       "      <td>2010-12-01 08:26:00</td>\n",
       "      <td>2.55</td>\n",
       "      <td>17850.0</td>\n",
       "      <td>United Kingdom</td>\n",
       "      <td>{light, heart, white, hanging, holder}</td>\n",
       "    </tr>\n",
       "    <tr>\n",
       "      <td>1</td>\n",
       "      <td>1</td>\n",
       "      <td>536365</td>\n",
       "      <td>71053</td>\n",
       "      <td>WHITE METAL LANTERN</td>\n",
       "      <td>6</td>\n",
       "      <td>2010-12-01 08:26:00</td>\n",
       "      <td>3.39</td>\n",
       "      <td>17850.0</td>\n",
       "      <td>United Kingdom</td>\n",
       "      <td>{white, lantern, metal}</td>\n",
       "    </tr>\n",
       "    <tr>\n",
       "      <td>2</td>\n",
       "      <td>2</td>\n",
       "      <td>536365</td>\n",
       "      <td>84406B</td>\n",
       "      <td>CREAM CUPID HEARTS COAT HANGER</td>\n",
       "      <td>8</td>\n",
       "      <td>2010-12-01 08:26:00</td>\n",
       "      <td>2.75</td>\n",
       "      <td>17850.0</td>\n",
       "      <td>United Kingdom</td>\n",
       "      <td>{hearts, cream, coat, cupid, hanger}</td>\n",
       "    </tr>\n",
       "    <tr>\n",
       "      <td>3</td>\n",
       "      <td>3</td>\n",
       "      <td>536365</td>\n",
       "      <td>84029G</td>\n",
       "      <td>KNITTED UNION FLAG HOT WATER BOTTLE</td>\n",
       "      <td>6</td>\n",
       "      <td>2010-12-01 08:26:00</td>\n",
       "      <td>3.39</td>\n",
       "      <td>17850.0</td>\n",
       "      <td>United Kingdom</td>\n",
       "      <td>{union, water, flag, hot, knitted, bottle}</td>\n",
       "    </tr>\n",
       "    <tr>\n",
       "      <td>4</td>\n",
       "      <td>4</td>\n",
       "      <td>536365</td>\n",
       "      <td>84029E</td>\n",
       "      <td>RED WOOLLY HOTTIE WHITE HEART.</td>\n",
       "      <td>6</td>\n",
       "      <td>2010-12-01 08:26:00</td>\n",
       "      <td>3.39</td>\n",
       "      <td>17850.0</td>\n",
       "      <td>United Kingdom</td>\n",
       "      <td>{red, woolly, white, hottie, heart.}</td>\n",
       "    </tr>\n",
       "  </tbody>\n",
       "</table>\n",
       "</div>"
      ],
      "text/plain": [
       "   Unnamed: 0 InvoiceNo StockCode                          Description  \\\n",
       "0           0    536365    85123A   WHITE HANGING HEART T-LIGHT HOLDER   \n",
       "1           1    536365     71053                  WHITE METAL LANTERN   \n",
       "2           2    536365    84406B       CREAM CUPID HEARTS COAT HANGER   \n",
       "3           3    536365    84029G  KNITTED UNION FLAG HOT WATER BOTTLE   \n",
       "4           4    536365    84029E       RED WOOLLY HOTTIE WHITE HEART.   \n",
       "\n",
       "   Quantity         InvoiceDate  UnitPrice  CustomerID         Country  \\\n",
       "0         6 2010-12-01 08:26:00       2.55     17850.0  United Kingdom   \n",
       "1         6 2010-12-01 08:26:00       3.39     17850.0  United Kingdom   \n",
       "2         8 2010-12-01 08:26:00       2.75     17850.0  United Kingdom   \n",
       "3         6 2010-12-01 08:26:00       3.39     17850.0  United Kingdom   \n",
       "4         6 2010-12-01 08:26:00       3.39     17850.0  United Kingdom   \n",
       "\n",
       "                         Description_filtered  \n",
       "0      {light, heart, white, hanging, holder}  \n",
       "1                     {white, lantern, metal}  \n",
       "2        {hearts, cream, coat, cupid, hanger}  \n",
       "3  {union, water, flag, hot, knitted, bottle}  \n",
       "4        {red, woolly, white, hottie, heart.}  "
      ]
     },
     "execution_count": 33,
     "metadata": {},
     "output_type": "execute_result"
    }
   ],
   "source": [
    "df.head()"
   ]
  },
  {
   "cell_type": "code",
   "execution_count": 55,
   "metadata": {},
   "outputs": [],
   "source": [
    "vector_dic = dict()\n",
    "for product_name, product_word in zip(df['Description'], df['Description_filtered']):\n",
    "    if product_word != None:\n",
    "        temp_array = np.zeros(dic_len + 1)\n",
    "        for each_word in product_word:\n",
    "            if each_word != None:\n",
    "                temp_array[dic[each_word]] = 1\n",
    "        vector_dic[product_name] = temp_array\n"
   ]
  },
  {
   "cell_type": "code",
   "execution_count": 113,
   "metadata": {},
   "outputs": [
    {
     "name": "stdout",
     "output_type": "stream",
     "text": [
      "WHITE HANGING HEART T-LIGHT HOLDER [0. 1. 1. ... 0. 0. 0.]\n"
     ]
    }
   ],
   "source": [
    "for k ,v in vector_dic.items():\n",
    "    print(k,v)\n",
    "    break"
   ]
  },
  {
   "cell_type": "code",
   "execution_count": 75,
   "metadata": {},
   "outputs": [
    {
     "data": {
      "text/plain": [
       "PCA(copy=True, iterated_power='auto', n_components=2, random_state=None,\n",
       "    svd_solver='auto', tol=0.0, whiten=False)"
      ]
     },
     "execution_count": 75,
     "metadata": {},
     "output_type": "execute_result"
    }
   ],
   "source": [
    "from sklearn.decomposition import PCA\n",
    "\n",
    "word_lis = []\n",
    "vector_lis = []\n",
    "for k, v in vector_dic.items():\n",
    "    word_lis.append(k)\n",
    "    vector_lis.append(v)\n",
    "    \n",
    "\n",
    "pca = PCA(n_components=2)\n",
    "pca.fit(vector_lis)  "
   ]
  },
  {
   "cell_type": "code",
   "execution_count": 66,
   "metadata": {},
   "outputs": [],
   "source": [
    "PCA_vec = PCA(n_components=2).fit_transform(X)"
   ]
  },
  {
   "cell_type": "code",
   "execution_count": 84,
   "metadata": {},
   "outputs": [],
   "source": [
    "def cosine_distance(org, comp):\n",
    "    A = np.array(org)\n",
    "    B = np.array(comp)\n",
    "    up = np.sum(A*B)\n",
    "    down = np.sqrt(np.sum(np.square(A))) * np.sqrt(np.sum(np.square(B)))\n",
    "    score = round(up/down, 2)\n",
    "    return score\n"
   ]
  },
  {
   "cell_type": "code",
   "execution_count": 86,
   "metadata": {},
   "outputs": [
    {
     "name": "stdout",
     "output_type": "stream",
     "text": [
      "WHITE HANGING HEART T-LIGHT HOLDER\n",
      "RED HANGING HEART T-LIGHT HOLDER\n",
      "COLOUR GLASS T-LIGHT HOLDER HANGING\n",
      "HANGING HEART ZINC T-LIGHT HOLDER\n",
      "SINGLE HEART ZINC T-LIGHT HOLDER\n",
      "SILVER HANGING T-LIGHT HOLDER\n",
      "HEART T-LIGHT HOLDER \n",
      "T-LIGHT HOLDER HANGING LACE\n",
      "HANGING JAM JAR T-LIGHT HOLDER\n",
      "GLASS HEART T-LIGHT HOLDER \n",
      "ZINC HEART LATTICE T-LIGHT HOLDER\n",
      "HANGING BAUBLE T-LIGHT HOLDER SMALL\n",
      "HANGING BAUBLE T-LIGHT HOLDER LARGE\n",
      "WHITE TALL PORCELAIN T-LIGHT HOLDER\n",
      "HEART STRING MEMO HOLDER HANGING\n",
      "T-LIGHT HOLDER WHITE LACE\n",
      "PERIWINKLE T-LIGHT HOLDER\n",
      "HANGING HEART JAR T-LIGHT HOLDER\n",
      "T-LIGHT HOLDER SWEETHEART HANGING\n",
      "WHITE HANGING BEADS CANDLE HOLDER\n",
      "HEART T-LIGHT HOLDER\n",
      "FOLK ART METAL HEART T-LIGHT HOLDER\n",
      "HANGING HEART BASKET\n",
      "HANGING RIDGE GLASS T-LIGHT HOLDER\n",
      "HANGING HEART WITH BELL\n",
      "ZINC HEART FLOWER T-LIGHT HOLDER\n",
      "ZINC  HEART T-LIGHT HOLDER\n",
      "HEART T-LIGHT HOLDER WILLIE WINKIE\n",
      "T-LIGHT HOLDER SILVER HEART HANDLE\n",
      "HANGING HEART BONHEUR\n",
      "HEART TRELLISTRIPLE T-LIGHT HOLDER\n",
      "HANGING  BUTTERFLY T-LIGHT HOLDER\n",
      "HEART TRELLIS TRIPLE T-LIGHT HOLDER\n",
      "PINK HANGING HEART T-LIGHT HOLDER\n",
      "T-LIGHT HOLDER HANGING LOVE BIRD\n",
      "CREAM HANGING HEART T-LIGHT HOLDER\n"
     ]
    }
   ],
   "source": [
    "org = vector_lis[0]\n",
    "org_name = word_lis[0]\n",
    "for product_name, comp in zip(word_lis, vector_lis):\n",
    "    if cosine_distance(org, comp) > 0.5:\n",
    "        print(product_name)\n",
    "    "
   ]
  },
  {
   "cell_type": "code",
   "execution_count": 107,
   "metadata": {},
   "outputs": [],
   "source": [
    "from sklearn.cluster import KMeans\n",
    "import numpy as np\n",
    "kmeans = KMeans(n_clusters=10, random_state=0).fit(PCA_vec)\n"
   ]
  },
  {
   "cell_type": "code",
   "execution_count": 108,
   "metadata": {},
   "outputs": [],
   "source": [
    "predict_dic = {x : [] for x in range(10)}\n",
    "for each_vec, product_name in zip(PCA_vec, word_lis):\n",
    "    result = kmeans.predict(each_vec.reshape(-1, 2))\n",
    "    predict_dic[result[0]].append(product_name)\n",
    "    "
   ]
  },
  {
   "cell_type": "code",
   "execution_count": 109,
   "metadata": {},
   "outputs": [
    {
     "name": "stdout",
     "output_type": "stream",
     "text": [
      "1707\n",
      "441\n",
      "285\n",
      "296\n",
      "30\n",
      "83\n",
      "813\n",
      "219\n",
      "340\n",
      "8\n"
     ]
    }
   ],
   "source": [
    "for k,v in predict_dic.items():\n",
    "    print(len(v))"
   ]
  }
 ],
 "metadata": {
  "kernelspec": {
   "display_name": "Python 3",
   "language": "python",
   "name": "python3"
  },
  "language_info": {
   "codemirror_mode": {
    "name": "ipython",
    "version": 3
   },
   "file_extension": ".py",
   "mimetype": "text/x-python",
   "name": "python",
   "nbconvert_exporter": "python",
   "pygments_lexer": "ipython3",
   "version": "3.7.4"
  }
 },
 "nbformat": 4,
 "nbformat_minor": 2
}
