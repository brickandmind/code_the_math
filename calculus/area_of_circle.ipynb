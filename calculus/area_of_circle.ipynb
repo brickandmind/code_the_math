{
 "cells": [
  {
   "cell_type": "markdown",
   "metadata": {},
   "source": [
    "# Derivative\n",
    "Assuming there is a circle, with radious r, how can we figure out its area?<br/>\n",
    "One of the way is the slice the circle to many(almost infinite) rectangular piceses with the lenght 2$\\pi$$r$(r gets samller as you cut down a pices of rectangular area from outside), and sum up their area.<br/>\n",
    "Obviously, the rectaugule is not precisely rectaugule due to the nature of circle, but it gets closer to rectangule as the dr(with ls he height of the piece) get smaller"
   ]
  },
  {
   "cell_type": "code",
   "execution_count": 8,
   "metadata": {},
   "outputs": [],
   "source": [
    "import pandas as pd\n",
    "import seaborn as sns"
   ]
  },
  {
   "cell_type": "code",
   "execution_count": 26,
   "metadata": {},
   "outputs": [
    {
     "name": "stdout",
     "output_type": "stream",
     "text": [
      "number of slicesed piceses: 1\n",
      "approximated area of the circle when it is sliced 1 times : 30.78\n",
      "number of slicesed piceses: 100001\n",
      "approximated area of the circle when it is sliced 100001 times : 30.7799999999427\n",
      "number of slicesed piceses: 200001\n",
      "approximated area of the circle when it is sliced 200001 times : 30.780000000065478\n",
      "number of slicesed piceses: 300001\n",
      "approximated area of the circle when it is sliced 300001 times : 30.779999999842556\n",
      "number of slicesed piceses: 400001\n",
      "approximated area of the circle when it is sliced 400001 times : 30.779999999892063\n",
      "number of slicesed piceses: 500001\n",
      "approximated area of the circle when it is sliced 500001 times : 30.779999999776958\n",
      "number of slicesed piceses: 600001\n",
      "approximated area of the circle when it is sliced 600001 times : 30.779999999715507\n",
      "number of slicesed piceses: 700001\n",
      "approximated area of the circle when it is sliced 700001 times : 30.780000000262188\n",
      "number of slicesed piceses: 800001\n",
      "approximated area of the circle when it is sliced 800001 times : 30.780000000464963\n",
      "number of slicesed piceses: 900001\n",
      "approximated area of the circle when it is sliced 900001 times : 30.77999999932743\n"
     ]
    }
   ],
   "source": [
    "#let the radious of the circle r, and its circumference 2*pi*r\n",
    "\n",
    "pi = 3.42\n",
    "r = 3\n",
    "circumference = 2* pi *r\n",
    "lis = []\n",
    "\n",
    "for number_of_slices in range(1, 1000000, 100000):\n",
    "    print('number of slicesed piceses: {}'.format(number_of_slices))\n",
    "    \n",
    "    #dA is the total area of all the piceses\n",
    "    #da is the area of each piceses\n",
    "    dA = 0\n",
    "    for each_slice in range(1, number_of_slices+1):\n",
    "        dr = r/number_of_slices\n",
    "        da = dr * circumference\n",
    "        dA += da\n",
    "    dA = dA/2\n",
    "    print('approximated area of the circle when it is sliced {} times : {}'.format(number_of_slices, dA))\n",
    "    lis.append({'number_of_slices':number_of_slices, 'area':dA})\n",
    "    \n",
    "        \n",
    "        \n",
    "        \n"
   ]
  },
  {
   "cell_type": "code",
   "execution_count": 27,
   "metadata": {},
   "outputs": [
    {
     "data": {
      "text/plain": [
       "<matplotlib.axes._subplots.AxesSubplot at 0x1a20a2a438>"
      ]
     },
     "execution_count": 27,
     "metadata": {},
     "output_type": "execute_result"
    },
    {
     "data": {
      "image/png": "[encoded data removed]",
      "text/plain": [
       "<Figure size 432x288 with 1 Axes>"
      ]
     },
     "metadata": {
      "needs_background": "light"
     },
     "output_type": "display_data"
    }
   ],
   "source": [
    "df = pd.DataFrame(lis)\n",
    "sns.barplot(x = df['number_of_slices'], y= df['area'])"
   ]
  },
  {
   "cell_type": "markdown",
   "metadata": {},
   "source": [
    "As you can see above, the area converges to 30.78, which is calculated based on the formula $\\pi$$r^2$"
   ]
  },
  {
   "cell_type": "code",
   "execution_count": 25,
   "metadata": {},
   "outputs": [
    {
     "data": {
      "text/plain": [
       "30.78"
      ]
     },
     "execution_count": 25,
     "metadata": {},
     "output_type": "execute_result"
    }
   ],
   "source": [
    "pi*(r**2)"
   ]
  },
  {
   "cell_type": "code",
   "execution_count": null,
   "metadata": {},
   "outputs": [],
   "source": []
  }
 ],
 "metadata": {
  "kernelspec": {
   "display_name": "Python 3",
   "language": "python",
   "name": "python3"
  },
  "language_info": {
   "codemirror_mode": {
    "name": "ipython",
    "version": 3
   },
   "file_extension": ".py",
   "mimetype": "text/x-python",
   "name": "python",
   "nbconvert_exporter": "python",
   "pygments_lexer": "ipython3",
   "version": "3.6.8"
  }
 },
 "nbformat": 4,
 "nbformat_minor": 2
}
