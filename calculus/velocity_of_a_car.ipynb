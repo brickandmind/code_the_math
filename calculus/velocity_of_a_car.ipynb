{
 "cells": [
  {
   "cell_type": "markdown",
   "metadata": {},
   "source": [
    "# Integral\n",
    "\n",
    "lets assume that the distance(d) of which a car traveled follow f(t) = $t^{2}$. t is the time it has traveled <br/>\n",
    "what is the velocity of the car when t = 10? <br/>\n",
    "velocity is the distance the car can tavel for a given unit of time at the moment. However, considering \"at the moment\" is like a picture of car moving - its is like trying to calculate how fsst a car is based on a picture -  can we get velocity at the moment?<br/>\n",
    "Thus, we use a back door. <br/>\n",
    "Assuming the car has traveled for really tiney amount of time from that moment, we calcualte (distance1 -distance2)/time, which can be denoted as $( f(t + dt) - f(t) )/dt$ <br/>"
   ]
  },
  {
   "cell_type": "code",
   "execution_count": 10,
   "metadata": {},
   "outputs": [
    {
     "name": "stdout",
     "output_type": "stream",
     "text": [
      "value of dt : 10, velocity of the car at t = 10 : 20.000999999993496\n",
      "value of dt : 10, velocity of the car at t = 10 : 20.00050000003739\n",
      "value of dt : 10, velocity of the car at t = 10 : 20.000333333342724\n",
      "value of dt : 10, velocity of the car at t = 10 : 20.000249999952757\n",
      "value of dt : 10, velocity of the car at t = 10 : 20.000199999969936\n",
      "value of dt : 10, velocity of the car at t = 10 : 20.0001666667049\n",
      "value of dt : 10, velocity of the car at t = 10 : 20.00014285702889\n",
      "value of dt : 10, velocity of the car at t = 10 : 20.000125000137814\n",
      "value of dt : 10, velocity of the car at t = 10 : 20.00011111118738\n"
     ]
    }
   ],
   "source": [
    "def f(t):\n",
    "    val = t**2\n",
    "    return val\n",
    "\n",
    "lis = []\n",
    "t = 10\n",
    "for x in range(1000, 10000, 1000):\n",
    "    dt = 1/x\n",
    "    val = (f(t + dt) - f(t)) / dt\n",
    "    lis.append({'dt': dt, 'velocity': val})\n",
    "    \n",
    "    print('value of dt : {}, velocity of the car at t = 10 : {}'.format(t, val))\n",
    "    "
   ]
  },
  {
   "cell_type": "markdown",
   "metadata": {},
   "source": [
    "As you can see, as the value of dt decreases, the velocity of the car at time 10 gets closer to 20, which is calulated from derivative function below"
   ]
  },
  {
   "cell_type": "code",
   "execution_count": 9,
   "metadata": {},
   "outputs": [
    {
     "name": "stdout",
     "output_type": "stream",
     "text": [
      "20\n"
     ]
    }
   ],
   "source": [
    "def df_over_dt(t):\n",
    "    val = 2*t\n",
    "    return val\n",
    "print(df_over_dt(10))"
   ]
  },
  {
   "cell_type": "code",
   "execution_count": null,
   "metadata": {},
   "outputs": [],
   "source": []
  }
 ],
 "metadata": {
  "kernelspec": {
   "display_name": "Python 3",
   "language": "python",
   "name": "python3"
  },
  "language_info": {
   "codemirror_mode": {
    "name": "ipython",
    "version": 3
   },
   "file_extension": ".py",
   "mimetype": "text/x-python",
   "name": "python",
   "nbconvert_exporter": "python",
   "pygments_lexer": "ipython3",
   "version": "3.6.8"
  }
 },
 "nbformat": 4,
 "nbformat_minor": 2
}
